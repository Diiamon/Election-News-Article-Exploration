{
  "nbformat": 4,
  "nbformat_minor": 0,
  "metadata": {
    "colab": {
      "provenance": [],
      "authorship_tag": "ABX9TyONkwGcdQVH31zKQ2HE79gh",
      "include_colab_link": true
    },
    "kernelspec": {
      "name": "python3",
      "display_name": "Python 3"
    },
    "language_info": {
      "name": "python"
    }
  },
  "cells": [
    {
      "cell_type": "markdown",
      "metadata": {
        "id": "view-in-github",
        "colab_type": "text"
      },
      "source": [
        "<a href=\"https://colab.research.google.com/github/Diiamon/Election-News-Article-Exploration/blob/main/capstone_meta_table.ipynb\" target=\"_parent\"><img src=\"https://colab.research.google.com/assets/colab-badge.svg\" alt=\"Open In Colab\"/></a>"
      ]
    },
    {
      "cell_type": "markdown",
      "source": [
        "## Main Table Meta Data"
      ],
      "metadata": {
        "id": "U4TAfBebsjtQ"
      }
    },
    {
      "cell_type": "markdown",
      "source": [
        "|   Column Name  |  Data Type  |                                  Description                                  |                                                 Notes                                                |\n",
        "|:--------------:|:-----------:|:-----------------------------------------------------------------------------:|:----------------------------------------------------------------------------------------------------:|\n",
        "| Source         | String      | The name of the news source or publication from which the article originated. | This column has been label-encoded to create a unique identifier for each source.                    |\n",
        "| Title          | String      | The title of the article.                                                     | No specific transformations mentioned.                                                               |\n",
        "| Headings       | String/List | The main headings or topics covered in the article.                           | Initially processed to remove quotes and then exploded for label encoding.                           |\n",
        "| author         | String/List | The author(s) of the article.                                                 | Processed to standardize the format, separating multiple authors into a list. Exploded for encoding. |\n",
        "| Published      | String      | The original published date and time of the article as a string.              | Used to extract Publish_Day, Publish_Month, Publish_Year, and Publish_Time.                          |\n",
        "| Publish_Day    | Integer     | The day of the month when the article was published.                          | Extracted from the Published column and formatted.                                                   |\n",
        "| Publish_Month  | String      | The month in which the article was published.                                 | Standardised month names (e.g., \"Jun\" to \"June\").                                                    |\n",
        "| Publish_Year   | Integer     | The year in which the article was published.                                  | Extracted from the Published column.                                                                 |\n",
        "| Publish_Time   | Time        | The time at which the article was published.                                  | Converted to a 24-hour format using regular expressions.                                             |\n",
        "| Read_Time      | Integer      | The estimated reading time of the article.                                    | No specific transformations mentioned.                                                               |\n",
        "| Article        | String      | The full text or content of the article.                                      | No specific transformations mentioned.                                                               |\n",
        "| Published_date | Date        | The formatted date of publication.                                            | Constructed from Publish_Day, Publish_Month, and Publish_Year and converted to a datetime.           |\n",
        "| [column_name]_id      | Integer     | Unique identifier for specific columns.                                       | Created through label encoding.                                                                      |"
      ],
      "metadata": {
        "id": "_PDRQ9f7sPw-"
      }
    },
    {
      "cell_type": "markdown",
      "source": [
        "## Relational Tables Meta Data"
      ],
      "metadata": {
        "id": "PA4i9PU0so-y"
      }
    },
    {
      "cell_type": "markdown",
      "source": [
        "|   Table Name    |       Columns       | Data Type |                                  Description                                  | Notes |\n",
        "|:---------------:|:-------------------:|:---------:|:-----------------------------------------------------------------------------:|:-----:|\n",
        "| Source          | Source_id           | Integer   | Unique identifier for each news source.                                       | Primary key. |\n",
        "|                 | Source              | String    | The name of the news source or publication.                                   | A descriptive name of the source. |\n",
        "||||||\n",
        "| Author          | author_id           | Integer   | Unique identifier for each author.                                            | Primary key. |\n",
        "|                 | author              | String/List | The author(s) of the article.                                                | Can include multiple authors, separated into a list. |\n",
        "||||||\n",
        "| Published       | Published_date_id   | Integer   | Unique identifier for each publication date.                                  | Primary key. |\n",
        "|                 | Publish_Day         | Integer   | The day of the month when the article was published.                          | Derived from the Published column. |\n",
        "|                 | Publish_Month       | String    | The month in which the article was published.                                 | Standardized month names. |\n",
        "|                 | Publish_Year        | Integer   | The year in which the article was published.                                  | Extracted from the Published column. |\n",
        "|                 | Publish_Time        | Time      | The time at which the article was published.                                  | Converted to a 24-hour format. |\n",
        "|                 | Read_Time           | Time      | The time at which the article was published.                                  | No specific transformations mentioned. |\n",
        "|                 | Publish_Date        | Time      | The formatted date of publication.                                            | Constructed from Publish_Day, Publish_Month, and Publish_Year and converted to a datetime. |\n",
        "||||||\n",
        "| Articles        | Article             | String    | The full text or content of the article.                                      | The primary text content of the article. |\n",
        "|                 | Article_id          | Integer   | Unique identifier for each article.                                           | Primary Key |\n",
        "|                 | Title               | String    | The title of the article.                                                     | Each title should be unique for easy referencing. |\n",
        "|                 | Published_date_id   | Integer   | Foreign key referencing the unique identifier for each publication date.      | Links to the Published_Dates table for detailed date information. |\n",
        "|                 | Source_id           | Integer   | Foreign key referencing the unique identifier for each news source.           | Links to the Sources table. |\n",
        "|                 | author_id           | Integer   | Foreign key referencing the unique identifier for each author.                | Links to the Authors table. |\n",
        "||||||\n",
        "| Article_author  | Article_id          | Integer   | Foreign key referencing the unique identifier for each article.               | Links to the Authors and Articles table. |\n",
        "|                 | Author_id           | Integer   | Foreign key referencing the unique identifier for each author.                | Links to the Authors and Articles table. |\n",
        "||||||\n",
        "| Article_word            | word_id             | Integer   | Foreign key referencing the unique identifier for each word. | Links to the Word and Articles table. |\n",
        "|                 | Article_id        | Integer      | Foreign key referencing the unique identifier for each article.  | Links to the Word and Articles table. |\n",
        "||||||\n",
        "| article_table_s | Article_id          | Integer   | Unique identifier for each article.                                           | Primary Key |\n",
        "|                 | [Article, Title] Sentiment Label           | String    | The sentiment label assigned to the article based on analysis.                | Positive, Negative, or Neutral (Bert, Roberta) |\n",
        "|                 | [Article, Title] Sentiment_Score     | Float     | The sentiment score calculated for the article.                               | Range from -1 (negative) to 1 (positive) (Bert, Roberta)|\n",
        "||||||\n",
        "| word_table      | word_id             | Integer   | Unique identifier for each word.                                              | Primary Key |\n",
        "|                 | Word                | String    | The word itself.                                                              | |\n",
        "|                 | Article_Frequency   | Integer   | The frequency of the word in articles.                                        | |\n",
        "|                 | Title_Frequency     | Integer   | The frequency of the word in titles.                                          | |\n",
        "|                 | Article_IDs         | List      | List of article IDs where the word appears.                                   | |\n",
        "||||||\n",
        "| topic_table     | Topic_id            | Integer   | Unique identifier for each topic.                                             | Primary Key |\n",
        "|                 | Topic               | String    | The topic or theme identified in the articles.                                | |\n",
        "|                 | Topic Frequency           | Integer      | The frequency of the word in this topic                                   | |\n",
        "\n"
      ],
      "metadata": {
        "id": "p-rDxvbMsRTG"
      }
    },
    {
      "cell_type": "code",
      "execution_count": null,
      "metadata": {
        "id": "X-cFRik3sG17"
      },
      "outputs": [],
      "source": []
    }
  ]
}